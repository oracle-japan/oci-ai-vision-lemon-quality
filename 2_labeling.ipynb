{
 "cells": [
  {
   "cell_type": "code",
   "execution_count": 5,
   "metadata": {},
   "outputs": [
    {
     "name": "stdout",
     "output_type": "stream",
     "text": [
      "....\n",
      "\"lemon_dataset\" was created.\n"
     ]
    }
   ],
   "source": [
    "# データセットの作成\n",
    "import time, params, oci_client\n",
    "from oci.data_labeling_service import DataLabelingManagementClient\n",
    "from oci.data_labeling_service.models import CreateDatasetDetails, LabelSet, Label, \\\n",
    "    Dataset, DatasetSourceDetails, DatasetFormatDetails, ObjectStorageSourceDetails\n",
    "\n",
    "data_format_details = DatasetFormatDetails(format_type='IMAGE') \n",
    "\n",
    "data_source_details = ObjectStorageSourceDetails(\n",
    "    source_type = 'OBJECT_STORAGE',\n",
    "    namespace = params.os_namespace,\n",
    "    bucket = params.os_bucket\n",
    ")\n",
    "\n",
    "label_set = LabelSet(items=[Label(name='good'), Label(name='bad'), Label(name='empty')])\n",
    "\n",
    "create_dataset_details = CreateDatasetDetails(\n",
    "    display_name = params.dataset_name,\n",
    "    annotation_format = \"SINGLE_LABEL\",\n",
    "    compartment_id = params.compartment_id,\n",
    "    dataset_format_details = data_format_details,\n",
    "    dataset_source_details = data_source_details,\n",
    "    label_set = label_set\n",
    ")\n",
    "\n",
    "dl_mgmt_client = oci_client.get(DataLabelingManagementClient) # type: DataLabelingManagementClient\n",
    "dataset = dl_mgmt_client.create_dataset(create_dataset_details).data # type: Dataset\n",
    "\n",
    "while True:\n",
    "    latest_dataset = dl_mgmt_client.get_dataset(dataset.id).data # type: Dataset\n",
    "    if(latest_dataset.lifecycle_state == 'ACTIVE'):\n",
    "        break\n",
    "    print('.', end='')\n",
    "    time.sleep(5)\n",
    "\n",
    "print(f'\\n\"{dataset.display_name}\" was created.')\n",
    "time.sleep(5) # extra to go to the next cell"
   ]
  },
  {
   "cell_type": "code",
   "execution_count": 6,
   "metadata": {},
   "outputs": [
    {
     "name": "stdout",
     "output_type": "stream",
     "text": [
      "Creating data - 2528 records (sampling 100%)\n",
      ".....................................................................................................\n",
      "done - total: 2528\n"
     ]
    }
   ],
   "source": [
    "# データ・レコードの作成\n",
    "import params, oci_client, oci, re, random\n",
    "from oci.data_labeling_service_dataplane import DataLabelingClient\n",
    "from oci.data_labeling_service_dataplane.models import Record, CreateRecordDetails, CreateObjectStorageSourceDetails\n",
    "from oci.object_storage import ObjectStorageClient\n",
    "from oci.object_storage.models import ListObjects, ObjectSummary\n",
    "\n",
    "dataset_id = dataset.id\n",
    "\n",
    "def create_record(obj: ObjectSummary) -> Record:\n",
    "    dl_client = oci_client.get(DataLabelingClient) # type: DataLabelingClient\n",
    "    object_name = obj.name\n",
    "    name = re.match(r'^.*/([^/]+)$', object_name).group(1)\n",
    "\n",
    "    create_source_details = CreateObjectStorageSourceDetails(\n",
    "        source_type = 'OBJECT_STORAGE', \n",
    "        relative_path = object_name\n",
    "    )\n",
    "    create_record_details = CreateRecordDetails(\n",
    "        compartment_id = params.compartment_id,\n",
    "        dataset_id = dataset_id,\n",
    "        source_details = create_source_details,\n",
    "        name = name\n",
    "    )\n",
    "    response = dl_client.create_record(create_record_details)\n",
    "    return response.data\n",
    "\n",
    "os_client = oci_client.get(ObjectStorageClient) # type: ObjectStorageClient\n",
    "response = oci.pagination.list_call_get_all_results(os_client.list_objects, params.os_namespace, params.os_bucket, prefix='data/').data # type: ListObjects\n",
    "count = 0\n",
    "objects = response.objects # type: list[ObjectSummary]\n",
    "sample = objects if params.sampling_factor == 1.0 else random.sample(objects, int(len(objects) * params.sampling_factor))\n",
    "print(f'Creating data - {len(sample)} records (sampling {int(params.sampling_factor*100.0)}%)')\n",
    "for obj in sample:\n",
    "    #obj = obj # type: ObjectSummary\n",
    "    if(obj.name.endswith('.jpg')):\n",
    "        record = create_record(obj)\n",
    "        count += 1\n",
    "        if count % 25 == 0:\n",
    "            print('.', end='')\n",
    "print(f'\\ndone - total: {count}')"
   ]
  },
  {
   "cell_type": "code",
   "execution_count": 7,
   "metadata": {},
   "outputs": [
    {
     "name": "stdout",
     "output_type": "stream",
     "text": [
      "Creating annotations, it will take some time...\n",
      ".....................................................................................................\n",
      "done - total: 2528\n"
     ]
    }
   ],
   "source": [
    "# データ・レコードにラベルをつける\n",
    "import params, oci_client\n",
    "from oci.data_labeling_service_dataplane import DataLabelingClient\n",
    "from oci.data_labeling_service_dataplane.models import Record, RecordCollection, RecordSummary, CreateAnnotationDetails, GenericEntity, Label\n",
    "\n",
    "dataset_id = dataset.id\n",
    "\n",
    "dl_client = oci_client.get(DataLabelingClient) # type: DataLabelingClient\n",
    "\n",
    "# レコード名（ファイル名由来）から \"good\", \"bad\",\"empty\" のうちのどれかのラベルをつける\n",
    "def create_annotation(record: RecordSummary):\n",
    "    label = Label()\n",
    "    label.label = \"good\" if 'good' in record.name else (\"bad\" if 'bad' in record.name else (\"empty\" if 'empty' in record.name else None))\n",
    "    #print(\"{} {}\".format(label.label, record.name))\n",
    "    if not label.label:\n",
    "        raise Exception('No label: {}'.format(record.name))\n",
    "\n",
    "    entity = GenericEntity(entity_type=\"GENERIC\", labels=[label])\n",
    "    create_annotation_details = CreateAnnotationDetails(\n",
    "        compartment_id = params.compartment_id,\n",
    "        entities = [entity],\n",
    "        record_id = record.id\n",
    "    )\n",
    "    dl_client.create_annotation(create_annotation_details)\n",
    "\n",
    "print(f'Creating annotations, it will take some time...')\n",
    "count = 0\n",
    "records = oci.pagination.list_call_get_all_results(dl_client.list_records, params.compartment_id, dataset_id).data # type: RecordCollection\n",
    "for record in records:\n",
    "    create_annotation(record)\n",
    "    count += 1\n",
    "    if count % 25 == 0:\n",
    "        print('.', end='')\n",
    "print(f'\\ndone - total: {count}')"
   ]
  },
  {
   "cell_type": "code",
   "execution_count": null,
   "metadata": {},
   "outputs": [],
   "source": [
    "# Dataset 情報を保存\n",
    "import json\n",
    "\n",
    "dataset_info ={\n",
    "    \"id\" : dataset.id,\n",
    "    \"display_name\" : dataset.display_name\n",
    "}\n",
    "\n",
    "with open('dataset_info.json', 'w') as f:\n",
    "    json.dump(f'dataset_{params.dataset_name}.json', f, indent=2)"
   ]
  }
 ],
 "metadata": {
  "kernelspec": {
   "display_name": "py3.6.8",
   "language": "python",
   "name": "python3"
  },
  "language_info": {
   "codemirror_mode": {
    "name": "ipython",
    "version": 3
   },
   "file_extension": ".py",
   "mimetype": "text/x-python",
   "name": "python",
   "nbconvert_exporter": "python",
   "pygments_lexer": "ipython3",
   "version": "3.6.8 (default, Nov 18 2021, 10:07:16) \n[GCC 4.8.5 20150623 (Red Hat 4.8.5-44.0.3)]"
  },
  "orig_nbformat": 4,
  "vscode": {
   "interpreter": {
    "hash": "98d0a3d0bd7431e305d81f45d5b627ea88d03e4ad3a887aa7c2bf437a55d2373"
   }
  }
 },
 "nbformat": 4,
 "nbformat_minor": 2
}
