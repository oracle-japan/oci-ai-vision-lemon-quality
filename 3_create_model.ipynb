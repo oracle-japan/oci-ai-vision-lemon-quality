{
 "cells": [
  {
   "cell_type": "code",
   "execution_count": 1,
   "metadata": {},
   "outputs": [
    {
     "name": "stdout",
     "output_type": "stream",
     "text": [
      ".....\n",
      "\"lemon_quality\" was created.\n"
     ]
    }
   ],
   "source": [
    "# プロジェクトの作成\n",
    "import time, params, oci_client\n",
    "from oci.ai_vision import AIServiceVisionClient\n",
    "from oci.ai_vision.models import CreateProjectDetails, Project, AnalyzeImageDetails, AnalyzeImageResult, ImageClassificationFeature, InlineImageDetails, Label\n",
    "\n",
    "vision_client = oci_client.get(AIServiceVisionClient) # type: AIServiceVisionClient\n",
    "\n",
    "create_project_details = CreateProjectDetails(\n",
    "    display_name = params.project_name,\n",
    "    compartment_id = params.compartment_id\n",
    ")\n",
    "\n",
    "project = vision_client.create_project(create_project_details).data # type: Project\n",
    "\n",
    "while True:\n",
    "    latest_project = vision_client.get_project(project.id).data # type: Project\n",
    "    if(latest_project.lifecycle_state == 'ACTIVE'):\n",
    "        break\n",
    "    print('.', end='')\n",
    "    time.sleep(5)\n",
    "print(F'\\n\"{project.display_name}\" was created.')\n",
    "time.sleep(5) # extra to go to the next cell"
   ]
  },
  {
   "cell_type": "code",
   "execution_count": 2,
   "metadata": {},
   "outputs": [
    {
     "name": "stdout",
     "output_type": "stream",
     "text": [
      "Started creating a new model \"image_classification\"\n"
     ]
    }
   ],
   "source": [
    "# モデルの作成\n",
    "import json\n",
    "import params, oci_client\n",
    "from oci.ai_vision.models import CreateModelDetails, Model, DataScienceLabelingDataset\n",
    "\n",
    "project_id = project.id\n",
    "\n",
    "with open('dataset_info.json') as f:\n",
    "    dataset_info = json.load(f)\n",
    "\n",
    "dataset = DataScienceLabelingDataset(\n",
    "    dataset_id = dataset_info.get('id'),\n",
    "    dataset_type = 'DATA_SCIENCE_LABELING'\n",
    ")\n",
    "\n",
    "create_model_details = CreateModelDetails(\n",
    "    display_name = params.model_name,\n",
    "    model_type = 'IMAGE_CLASSIFICATION',\n",
    "    training_dataset = dataset,\n",
    "    max_training_duration_in_hours = 24.0,\n",
    "    project_id = project_id,\n",
    "    compartment_id = params.compartment_id\n",
    ")\n",
    "\n",
    "vision_client = oci_client.get(AIServiceVisionClient) # type: AIServiceVisionClient\n",
    "model = vision_client.create_model(create_model_details).data # type: Model\n",
    "print(f'Started creating a new model \"{model.display_name}\"')"
   ]
  },
  {
   "cell_type": "code",
   "execution_count": null,
   "metadata": {},
   "outputs": [],
   "source": [
    "# Model 情報を保存\n",
    "import json\n",
    "\n",
    "model_info ={\n",
    "    \"id\" : model.id,\n",
    "    \"display_name\" : model.display_name,\n",
    "    \"model_type\" : model.model_type,\n",
    "    \"project_id\" : model.project_id,\n",
    "    \"project_display_name\" : project.display_name\n",
    "}\n",
    "\n",
    "with open(f'model_{params.model_name}.json', 'w') as f:\n",
    "    json.dump(model_info, f, indent=2)"
   ]
  },
  {
   "cell_type": "code",
   "execution_count": 4,
   "metadata": {},
   "outputs": [
    {
     "name": "stdout",
     "output_type": "stream",
     "text": [
      "Status of \"image_classification\" is CREATING.\n"
     ]
    }
   ],
   "source": [
    "# モデルのステータスの確認\n",
    "import json, params, oci_client\n",
    "from oci.ai_vision import AIServiceVisionClient\n",
    "from oci.ai_vision.models import Model\n",
    "\n",
    "with open('model_info.json') as f:\n",
    "    model_info = json.load(f)\n",
    "\n",
    "vision_client = oci_client.get(AIServiceVisionClient) # type: AIServiceVisionClient\n",
    "model = vision_client.get_model(model_info.get('id')).data # type: Model\n",
    "print(f'Status of \"{model.display_name}\" is {model.lifecycle_state}.')\n",
    "#print(model)\n"
   ]
  }
 ],
 "metadata": {
  "kernelspec": {
   "display_name": "py3.6.8",
   "language": "python",
   "name": "python3"
  },
  "language_info": {
   "codemirror_mode": {
    "name": "ipython",
    "version": 3
   },
   "file_extension": ".py",
   "mimetype": "text/x-python",
   "name": "python",
   "nbconvert_exporter": "python",
   "pygments_lexer": "ipython3",
   "version": "3.6.8 (default, Nov 18 2021, 10:07:16) \n[GCC 4.8.5 20150623 (Red Hat 4.8.5-44.0.3)]"
  },
  "orig_nbformat": 4,
  "vscode": {
   "interpreter": {
    "hash": "98d0a3d0bd7431e305d81f45d5b627ea88d03e4ad3a887aa7c2bf437a55d2373"
   }
  }
 },
 "nbformat": 4,
 "nbformat_minor": 2
}
