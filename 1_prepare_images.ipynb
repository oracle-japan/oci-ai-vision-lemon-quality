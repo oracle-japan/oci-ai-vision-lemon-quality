{
 "cells": [
  {
   "cell_type": "code",
   "execution_count": 5,
   "metadata": {},
   "outputs": [
    {
     "name": "stdout",
     "output_type": "stream",
     "text": [
      "Cloning into 'lemon_dataset'...\n",
      "remote: Enumerating objects: 53, done.\u001b[K\n",
      "remote: Counting objects: 100% (24/24), done.\u001b[K\n",
      "remote: Compressing objects: 100% (21/21), done.\u001b[K\n",
      "remote: Total 53 (delta 4), reused 18 (delta 3), pack-reused 29\u001b[K\n",
      "Unpacking objects: 100% (53/53), done.\n",
      "Checking connectivity... done.\n"
     ]
    }
   ],
   "source": [
    "# 学習データを GitHubから入手する\n",
    "!git clone https://github.com/robotduinom/lemon_dataset\n",
    "!rm -rf lemon_dataset/.git"
   ]
  },
  {
   "cell_type": "code",
   "execution_count": 6,
   "metadata": {},
   "outputs": [
    {
     "name": "stdout",
     "output_type": "stream",
     "text": [
      "Sending build context to Docker daemon  81.97MB\n",
      "Step 1/3 : FROM ubuntu:latest\n",
      " ---> 6b7dfa7e8fdb\n",
      "Step 2/3 : WORKDIR /tmp/work\n",
      " ---> Using cache\n",
      " ---> ede8452840ba\n",
      "Step 3/3 : RUN apt-get update && apt-get -y install unrar && rm -rf /var/lib/apt/lists/*\n",
      " ---> Using cache\n",
      " ---> 4d9e457d289d\n",
      "Successfully built 4d9e457d289d\n",
      "Successfully tagged unrar:latest\n"
     ]
    }
   ],
   "source": [
    "# rar ファイルを解凍するのに unrar が必要なので、解凍用の docker image を作成する\n",
    "!docker build -t unrar ."
   ]
  },
  {
   "cell_type": "code",
   "execution_count": 7,
   "metadata": {},
   "outputs": [
    {
     "name": "stdout",
     "output_type": "stream",
     "text": [
      "\n",
      "UNRAR 6.11 beta 1 freeware      Copyright (c) 1993-2022 Alexander Roshal\n",
      "\n",
      "\n",
      "Extracting from ./lemon_dataset/docs/data.rar\n",
      "\n",
      "Creating    data                                                      OK\n",
      "Creating    data/bad_quality                                          OK\n",
      "Extracting  data/bad_quality/bad_quality_0.jpg                           0  OK \n",
      "Extracting  data/bad_quality/bad_quality_1.jpg                           0  OK \n",
      ".......\n",
      "Extracting  data/good_quality/good_quality_991.jpg                      99  OK \n",
      "Extracting  data/good_quality/good_quality_992.jpg                      99  OK \n",
      "Extracting  data/good_quality/good_quality_993.jpg                      99  OK \n",
      "Extracting  data/good_quality/good_quality_994.jpg                      99  OK \n",
      "Extracting  data/good_quality/good_quality_995.jpg                      99  OK \n",
      "Extracting  data/good_quality/good_quality_996.jpg                      99  OK \n",
      "Extracting  data/good_quality/good_quality_997.jpg                      99  OK \n",
      "Extracting  data/good_quality/good_quality_998.jpg                      99  OK \n",
      "Extracting  data/good_quality/good_quality_999.jpg                      99  OK \n",
      "All OK\n"
     ]
    }
   ],
   "source": [
    "# rar ファイルの解凍 - data フォルダに解凍される\n",
    "!docker run --rm -t -v ${PWD}:/tmp/work unrar:latest unrar x ./lemon_dataset/docs/data.rar > unrar.out\n",
    "!head unrar.out && echo \".......\" && tail unrar.out && rm unrar.out"
   ]
  },
  {
   "cell_type": "code",
   "execution_count": 8,
   "metadata": {},
   "outputs": [
    {
     "name": "stdout",
     "output_type": "stream",
     "text": [
      "Creating bucket: lemon_dataset\n",
      "Uploading 2528 files to the bucket \"lemon_dataset\", it will take some time...\n",
      ".....................................................................................................\n",
      "done.\n"
     ]
    }
   ],
   "source": [
    "# オブジェクト・ストレージにアップロードする\n",
    "import glob, base64\n",
    "import params, oci_client\n",
    "from oci.object_storage import UploadManager, ObjectStorageClient\n",
    "from oci.object_storage.models import CreateBucketDetails\n",
    "\n",
    "os_client = oci_client.get(ObjectStorageClient) # type: ObjectStorageClient\n",
    "\n",
    "# バケットが無かったら作成する\n",
    "try:\n",
    "    backet = os_client.get_bucket(params.os_namespace, params.os_bucket).data\n",
    "except:\n",
    "    print(f'Creating bucket: {params.os_bucket}')\n",
    "    create_bucket_details = CreateBucketDetails(\n",
    "        name = params.os_bucket,\n",
    "        compartment_id = params.compartment_id,\n",
    "        public_access_type = CreateBucketDetails.PUBLIC_ACCESS_TYPE_NO_PUBLIC_ACCESS,\n",
    "        storage_tier = CreateBucketDetails.STORAGE_TIER_STANDARD\n",
    "    )\n",
    "    os_client.create_bucket(params.os_namespace, create_bucket_details)\n",
    "\n",
    "# ファイルをオブジェクト・ストレージにアップロード\n",
    "upload_manager = UploadManager(os_client)\n",
    "files = glob.glob(\"data/**/*.jpg\")\n",
    "print(f'Uploading {len(files)} files to the bucket \"{params.os_bucket}\", it will take some time...')\n",
    "count = 0\n",
    "for file in files:\n",
    "    response = upload_manager.upload_file(params.os_namespace, params.os_bucket, file, file, content_type=\"image/jpeg\")\n",
    "    count += 1\n",
    "    if count % 25 == 0:\n",
    "        print('.', end='')\n",
    "print('\\ndone.')"
   ]
  }
 ],
 "metadata": {
  "kernelspec": {
   "display_name": "py3.6.8",
   "language": "python",
   "name": "python3"
  },
  "language_info": {
   "codemirror_mode": {
    "name": "ipython",
    "version": 3
   },
   "file_extension": ".py",
   "mimetype": "text/x-python",
   "name": "python",
   "nbconvert_exporter": "python",
   "pygments_lexer": "ipython3",
   "version": "3.6.8 (default, Nov 18 2021, 10:07:16) \n[GCC 4.8.5 20150623 (Red Hat 4.8.5-44.0.3)]"
  },
  "orig_nbformat": 4,
  "vscode": {
   "interpreter": {
    "hash": "98d0a3d0bd7431e305d81f45d5b627ea88d03e4ad3a887aa7c2bf437a55d2373"
   }
  }
 },
 "nbformat": 4,
 "nbformat_minor": 2
}
